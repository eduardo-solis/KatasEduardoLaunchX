{
 "cells": [
  {
   "cell_type": "markdown",
   "metadata": {},
   "source": [
    "Programa que devuelve la fecha actual"
   ]
  },
  {
   "cell_type": "code",
   "execution_count": 1,
   "metadata": {},
   "outputs": [
    {
     "name": "stdout",
     "output_type": "stream",
     "text": [
      "El día de hoy es: 2022-02-06\n"
     ]
    }
   ],
   "source": [
    "from datetime import date\n",
    "\n",
    "print('El día de hoy es: ' + str(date.today()))"
   ]
  },
  {
   "cell_type": "markdown",
   "metadata": {},
   "source": [
    "Convertidor de unidades\n",
    "\n",
    "Parsec -> Años luz"
   ]
  },
  {
   "cell_type": "code",
   "execution_count": 4,
   "metadata": {},
   "outputs": [
    {
     "name": "stdout",
     "output_type": "stream",
     "text": [
      "11 parsec, son 35.877159999999996años luz\n"
     ]
    }
   ],
   "source": [
    "parsec = 11\n",
    "anio_luz = 0\n",
    "\n",
    "# 1 parsec es 3.26156 años luz\n",
    "\n",
    "anio_luz = parsec * 3.26156\n",
    "\n",
    "print(str(parsec) + ' parsec, son ' + str(anio_luz) + 'años luz')"
   ]
  }
 ],
 "metadata": {
  "interpreter": {
   "hash": "b57cf49ba40cffb9f573ffff2e7abee1c00c6dadfcb1e268543de4b96bfe2901"
  },
  "kernelspec": {
   "display_name": "Python 3.8.2 64-bit",
   "language": "python",
   "name": "python3"
  },
  "language_info": {
   "codemirror_mode": {
    "name": "ipython",
    "version": 3
   },
   "file_extension": ".py",
   "mimetype": "text/x-python",
   "name": "python",
   "nbconvert_exporter": "python",
   "pygments_lexer": "ipython3",
   "version": "3.8.2"
  },
  "orig_nbformat": 4
 },
 "nbformat": 4,
 "nbformat_minor": 2
}

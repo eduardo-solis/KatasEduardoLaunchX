{
 "cells": [
  {
   "cell_type": "markdown",
   "metadata": {},
   "source": [
    "## Ejercicio 1\n",
    "Transformación de cadenas\n",
    "\n",
    "Texto con el que se trabajara:\n",
    "\n",
    "Interesting facts about the Moon. The Moon is Earth's only satellite. There are several interesting facts about the Moon and how it affects life here on Earth. \n",
    "On average, the Moon moves 4cm away from the Earth every year. This yearly drift is not significant enough to cause immediate effects on Earth. The highest daylight temperature of the Moon is 127 C."
   ]
  },
  {
   "cell_type": "code",
   "execution_count": null,
   "metadata": {},
   "outputs": [],
   "source": [
    "text = \"\"\"Interesting facts about the Moon. The Moon is Earth's only satellite. There are several interesting facts about the Moon and how it affects life here on Earth. \n",
    "On average, the Moon moves 4cm away from the Earth every year. This yearly drift is not significant enough to cause immediate effects on Earth. The highest daylight temperature of the Moon is 127 C.\"\"\"\n",
    "\n",
    "# Primero, divide el texto en cada oración para trabajar con su contenido:\n",
    "\n",
    "sentences = text.split(\".\")\n",
    "\n",
    "# Ahora, define algunas palabras clave para búsqueda que te ayudarán a determinar si una oración contiene un hecho.\n",
    "# pista: average, temperature y distance\n",
    "\n",
    "palabraClave1 = \"average\"\n",
    "palabraClave2 = \"temperature\"\n",
    "palabraClave3 = \"distance\"\n",
    "\n",
    "# Cre un bucle para imprimir solo datos sobre la Luna que estén relacionados con las palabras clave definidas anteriormente:\n",
    "\n",
    "for x in sentences:\n",
    "    sentence = x.lower()\n",
    "    if sentence.count(palabraClave1) or sentence.count(palabraClave2) or sentence.count(palabraClave3):\n",
    "        # Finalmente, actualiza el bucle(ciclo) para cambiar C a Celsius:\n",
    "        print(x.replace(\"C\", \"Celsius\"))\n",
    "\n",
    "\n",
    "\n",
    "\n"
   ]
  },
  {
   "cell_type": "markdown",
   "metadata": {},
   "source": [
    "## Ejercicio 2\n",
    "Formateando cadenas"
   ]
  },
  {
   "cell_type": "code",
   "execution_count": null,
   "metadata": {},
   "outputs": [],
   "source": [
    "# Datos con los que vas a trabajar\n",
    "name = \"Moon\"\n",
    "gravity = 0.00162 # in kms\n",
    "planet = \"Earth\"\n",
    "\n",
    "# Primero, crea un título para el texto. Debido a que este texto trata sobre la gravedad en la Tierra y la Luna, \n",
    "# úsalo para crear un título significativo. Utiliza las variables en lugar de escribir.\n",
    "\n",
    "title = \"Gravity Facts about {}\".format(name).title()\n",
    "\n",
    "# Ahora crea una plantilla de cadena multilínea para contener el resto de la información. En lugar de usar kilómetros, \n",
    "# debes convertir la distancia a metros multiplicando por 1,000.\n",
    "\n",
    "template = f\"\"\"\n",
    "-------------------------------------------------------------------------------\n",
    "Planet Name: {planet}\n",
    "Gravity on {name}: {(gravity * 1000)} m/s2\n",
    "\"\"\"\n",
    "\n",
    "# Finalmente, usa ambas variables para unir el título y los hechos.\n",
    "\n",
    "template2 = f\"\"\"\n",
    "{title}\n",
    "{template}\n",
    "\"\"\"\n",
    "\n",
    "print(template2)\n",
    "\n",
    "# Ahora usa información de una luna diferente para ver si la plantilla todavía funciona.\n",
    "planeta = \"Marte\"\n",
    "gravedad = 0.00143\n",
    "nombre = \"Ganímedes\"\n",
    "\n",
    "newTemplate = \"\"\"Gravity Facts about: {nombre}\n",
    "-------------------------------------------------------------------------------\n",
    "Planet Name: {planeta}\n",
    "Gravity on {nombre}: {gravedad} m/s2\"\"\".format(nombre = nombre, planeta = planeta, gravedad = (gravedad*1000))\n",
    "\n",
    "print(newTemplate)\n",
    "\n",
    "\n",
    "\n"
   ]
  }
 ],
 "metadata": {
  "interpreter": {
   "hash": "b57cf49ba40cffb9f573ffff2e7abee1c00c6dadfcb1e268543de4b96bfe2901"
  },
  "kernelspec": {
   "display_name": "Python 3.8.2 64-bit",
   "language": "python",
   "name": "python3"
  },
  "language_info": {
   "codemirror_mode": {
    "name": "ipython",
    "version": 3
   },
   "file_extension": ".py",
   "mimetype": "text/x-python",
   "name": "python",
   "nbconvert_exporter": "python",
   "pygments_lexer": "ipython3",
   "version": "3.8.2"
  },
  "orig_nbformat": 4
 },
 "nbformat": 4,
 "nbformat_minor": 2
}

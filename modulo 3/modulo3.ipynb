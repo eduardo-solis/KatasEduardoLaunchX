{
 "cells": [
  {
   "cell_type": "markdown",
   "metadata": {},
   "source": [
    "Modulo 3 - Lógica booleana"
   ]
  },
  {
   "cell_type": "code",
   "execution_count": 3,
   "metadata": {},
   "outputs": [
    {
     "name": "stdout",
     "output_type": "stream",
     "text": [
      "Sistema de advertencia\n",
      "Atención civiles, se aproxima un asteriode\n"
     ]
    }
   ],
   "source": [
    "# Problema 1\n",
    "print( 'Sistema de advertencia' )\n",
    "\n",
    "velocidad = 49\n",
    "\n",
    "if velocidad > 25 :\n",
    "    print('Atención civiles, se aproxima un asteriode')\n",
    "else :\n",
    "    print('Todos estamos a salvo')"
   ]
  },
  {
   "cell_type": "code",
   "execution_count": null,
   "metadata": {},
   "outputs": [],
   "source": [
    "# Problema 2\n",
    "\n",
    "velocidad = 19\n",
    "\n",
    "if velocidad > 20 : \n",
    "    print('Miren al cielo, en busca de una luz')\n",
    "elif velocidad == 20 :\n",
    "    print('Miren al cielo, en busca de una luz')\n",
    "else :\n",
    "    print('No hay nada en el cielo')"
   ]
  },
  {
   "cell_type": "code",
   "execution_count": 4,
   "metadata": {},
   "outputs": [
    {
     "name": "stdout",
     "output_type": "stream",
     "text": [
      "Sistema de advertencia\n",
      "Miren al cielo, en busca de una luz\n"
     ]
    }
   ],
   "source": [
    "# Problema 3\n",
    "\n",
    "print('Sistema de advertencia')\n",
    "\n",
    "tamanio = 40\n",
    "velocidad = 25\n",
    "\n",
    "if tamanio > 25 and velocidad > 25 :\n",
    "    print('Alerta, se dirige un asteroide hacia la Tierra')\n",
    "elif velocidad >= 20 :\n",
    "    print('Miren al cielo, en busca de una luz')\n",
    "elif tamanio < 25:\n",
    "    print('No pasa nada')\n",
    "else :\n",
    "    print('No hay nada en el cielo')"
   ]
  }
 ],
 "metadata": {
  "interpreter": {
   "hash": "b57cf49ba40cffb9f573ffff2e7abee1c00c6dadfcb1e268543de4b96bfe2901"
  },
  "kernelspec": {
   "display_name": "Python 3.8.2 64-bit",
   "language": "python",
   "name": "python3"
  },
  "language_info": {
   "codemirror_mode": {
    "name": "ipython",
    "version": 3
   },
   "file_extension": ".py",
   "mimetype": "text/x-python",
   "name": "python",
   "nbconvert_exporter": "python",
   "pygments_lexer": "ipython3",
   "version": "3.8.2"
  },
  "orig_nbformat": 4
 },
 "nbformat": 4,
 "nbformat_minor": 2
}

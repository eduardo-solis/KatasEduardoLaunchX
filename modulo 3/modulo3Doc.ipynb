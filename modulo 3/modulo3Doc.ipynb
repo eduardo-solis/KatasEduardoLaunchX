{
 "cells": [
  {
   "cell_type": "markdown",
   "metadata": {},
   "source": [
    "## Boleanos\n",
    "Expresiones de Prueba"
   ]
  },
  {
   "cell_type": "code",
   "execution_count": 1,
   "metadata": {},
   "outputs": [],
   "source": [
    "# Ejemplo 1\n",
    "\n",
    "a = 97\n",
    "b = 55\n",
    "\n",
    "# Expresión de prueba\n",
    "if a < b :\n",
    "    # Instrucción a ejecutar\n",
    "    print(b)"
   ]
  },
  {
   "cell_type": "code",
   "execution_count": 4,
   "metadata": {},
   "outputs": [
    {
     "name": "stdout",
     "output_type": "stream",
     "text": [
      "93\n"
     ]
    }
   ],
   "source": [
    "# Ejemplo 2\n",
    "\n",
    "a = 93\n",
    "b = 27\n",
    "\n",
    "if a >= b :\n",
    "    print('a es mayor o igual que b')\n",
    "elif a == b :\n",
    "    print('a es igual que b')"
   ]
  },
  {
   "cell_type": "code",
   "execution_count": 3,
   "metadata": {},
   "outputs": [
    {
     "name": "stdout",
     "output_type": "stream",
     "text": [
      "44\n"
     ]
    }
   ],
   "source": [
    "# Ejemplo 3\n",
    "\n",
    "a = 24\n",
    "b = 44\n",
    "\n",
    "if a <= 0 :\n",
    "    print(a)\n",
    "\n",
    "print(b)"
   ]
  },
  {
   "cell_type": "code",
   "execution_count": 5,
   "metadata": {},
   "outputs": [
    {
     "name": "stdout",
     "output_type": "stream",
     "text": [
      "a es mayor que b\n"
     ]
    }
   ],
   "source": [
    "# Ejemplo 4\n",
    "\n",
    "a = 93\n",
    "b = 27\n",
    "\n",
    "if a > b :\n",
    "    print('a es mayor que b')\n",
    "elif a < b :\n",
    "    print('a es menor que b')\n",
    "else :\n",
    "    print('a es igual que b')"
   ]
  },
  {
   "cell_type": "markdown",
   "metadata": {},
   "source": [
    "Lógica condicional anidada"
   ]
  },
  {
   "cell_type": "code",
   "execution_count": 6,
   "metadata": {},
   "outputs": [
    {
     "name": "stdout",
     "output_type": "stream",
     "text": [
      "a es menor que b\n"
     ]
    }
   ],
   "source": [
    "# Ejemplo 5\n",
    "\n",
    "a = 16\n",
    "b = 25\n",
    "c = 27\n",
    "\n",
    "if a > b:\n",
    "    if b > c:\n",
    "        print('a es mayor que b y b es mayor que c')\n",
    "    else :\n",
    "        print('a es mayor que b y menor que c')\n",
    "elif a == b :\n",
    "    print('a es igual que b')\n",
    "else :\n",
    "    print('a es menor que b')"
   ]
  },
  {
   "cell_type": "markdown",
   "metadata": {},
   "source": [
    "Operadores \"and\" y \"or\""
   ]
  },
  {
   "cell_type": "code",
   "execution_count": 7,
   "metadata": {},
   "outputs": [
    {
     "name": "stdout",
     "output_type": "stream",
     "text": [
      "57\n"
     ]
    }
   ],
   "source": [
    "# Ejemplo 6 -> OR\n",
    "\n",
    "a = 23\n",
    "b = 34\n",
    "\n",
    "if a == 34 or b == 34 :\n",
    "    print( a + b )"
   ]
  },
  {
   "cell_type": "code",
   "execution_count": 8,
   "metadata": {},
   "outputs": [],
   "source": [
    "# Ejemplo 7 -> AND\n",
    "\n",
    "a = 23\n",
    "b = 34\n",
    "\n",
    "if a == 34 and b == 34 :\n",
    "    print (a + b)"
   ]
  }
 ],
 "metadata": {
  "interpreter": {
   "hash": "b57cf49ba40cffb9f573ffff2e7abee1c00c6dadfcb1e268543de4b96bfe2901"
  },
  "kernelspec": {
   "display_name": "Python 3.8.2 64-bit",
   "language": "python",
   "name": "python3"
  },
  "language_info": {
   "codemirror_mode": {
    "name": "ipython",
    "version": 3
   },
   "file_extension": ".py",
   "mimetype": "text/x-python",
   "name": "python",
   "nbconvert_exporter": "python",
   "pygments_lexer": "ipython3",
   "version": "3.8.2"
  },
  "orig_nbformat": 4
 },
 "nbformat": 4,
 "nbformat_minor": 2
}

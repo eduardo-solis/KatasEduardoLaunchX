{
 "cells": [
  {
   "cell_type": "markdown",
   "metadata": {},
   "source": [
    "## Ejercicio 1\n",
    "Crear y usar listas de Python"
   ]
  },
  {
   "cell_type": "code",
   "execution_count": 3,
   "metadata": {},
   "outputs": [
    {
     "name": "stdout",
     "output_type": "stream",
     "text": [
      "['Mercurio', 'Venus', 'Tierra', 'Marte', 'Jupiter', 'Saturno', 'Urano', 'Neptuno']\n",
      "9 Pluton\n"
     ]
    }
   ],
   "source": [
    "planets = [\"Mercurio\", \"Venus\", \"Tierra\", \"Marte\", \"Jupiter\", \"Saturno\", \"Urano\", \"Neptuno\"]\n",
    "\n",
    "print(planets)\n",
    "\n",
    "planets.append(\"Pluton\")\n",
    "print(len(planets), planets[-1])"
   ]
  },
  {
   "cell_type": "markdown",
   "metadata": {},
   "source": [
    "## Ejercicio 2\n",
    "Trabajando con datos de una lista"
   ]
  },
  {
   "cell_type": "code",
   "execution_count": 7,
   "metadata": {},
   "outputs": [
    {
     "name": "stdout",
     "output_type": "stream",
     "text": [
      "Los planetas cercanos al sol son:\n",
      "['Mercury', 'Venus', 'Earth', 'Mars']\n",
      "['Saturn', 'Neptune']\n"
     ]
    }
   ],
   "source": [
    "planets = ['Mercury', 'Venus', 'Earth', 'Mars', 'Jupiter', 'Saturn', 'Neptune']\n",
    "planet = input(\"Ingresa el nombre de un planeta del sistema solar\")\n",
    "\n",
    "planet_index = planets.index(planet)\n",
    "\n",
    "planets_near_to_sun = planets[0:planet_index]\n",
    "planets_far_to_sun = planets[planet_index+1:]\n",
    "\n",
    "print(\"Los planetas cercanos al sol son:\")\n",
    "print(planets_near_to_sun)\n",
    "print(\"Los planetas lejanos al sol son:\")\n",
    "print(planets_far_to_sun)"
   ]
  }
 ],
 "metadata": {
  "interpreter": {
   "hash": "b57cf49ba40cffb9f573ffff2e7abee1c00c6dadfcb1e268543de4b96bfe2901"
  },
  "kernelspec": {
   "display_name": "Python 3.8.2 64-bit",
   "language": "python",
   "name": "python3"
  },
  "language_info": {
   "codemirror_mode": {
    "name": "ipython",
    "version": 3
   },
   "file_extension": ".py",
   "mimetype": "text/x-python",
   "name": "python",
   "nbconvert_exporter": "python",
   "pygments_lexer": "ipython3",
   "version": "3.8.2"
  },
  "orig_nbformat": 4
 },
 "nbformat": 4,
 "nbformat_minor": 2
}

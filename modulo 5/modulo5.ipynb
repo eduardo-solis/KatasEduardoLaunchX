{
 "cells": [
  {
   "cell_type": "markdown",
   "metadata": {},
   "source": [
    "## Ejercicio 1\n",
    "Utilizar operadores aritmeticos\n"
   ]
  },
  {
   "cell_type": "code",
   "execution_count": 8,
   "metadata": {},
   "outputs": [
    {
     "name": "stdout",
     "output_type": "stream",
     "text": [
      "Distancia entre los planetas es 628949330 en kilometros y en millas es 390577534\n"
     ]
    }
   ],
   "source": [
    "planetA = \"149.597.870\" # Km\n",
    "planetB = \"778.547.200\" # Km\n",
    "\n",
    "distanceA = int(planetA.replace(\".\", \"\"))\n",
    "distanceB = int(planetB.replace(\".\", \"\"))\n",
    "\n",
    "kilometros = distanceB - distanceA\n",
    "millas = round(kilometros * 0.621)\n",
    "\n",
    "print(\"Distancia entre los planetas es {} en kilometros y en millas es {}\".format(kilometros, millas))\n",
    "\n"
   ]
  },
  {
   "cell_type": "markdown",
   "metadata": {},
   "source": [
    "## Ejercicio 2\n",
    "Convierte cadenas en números y usa valores absolutos"
   ]
  },
  {
   "cell_type": "code",
   "execution_count": 9,
   "metadata": {},
   "outputs": [
    {
     "name": "stdout",
     "output_type": "stream",
     "text": [
      "50300000 \n",
      " 31236300.0\n"
     ]
    }
   ],
   "source": [
    "planetA = input(\"Ingrese la distancia del primer planeta respecto al sol\")\n",
    "planetB = input(\"Ingrese la distancia del segundo planeta respecto al sol\")\n",
    "\n",
    "distanceA = int(planetA)\n",
    "distanceB = int(planetB)\n",
    "\n",
    "kilometros = abs(distanceB - distanceA)\n",
    "\n",
    "millas = round(kilometros * 0.621)\n",
    "\n",
    "print(kilometros, \"\\n\", millas)\n",
    "\n",
    "\n",
    "\n"
   ]
  }
 ],
 "metadata": {
  "interpreter": {
   "hash": "b57cf49ba40cffb9f573ffff2e7abee1c00c6dadfcb1e268543de4b96bfe2901"
  },
  "kernelspec": {
   "display_name": "Python 3.8.2 64-bit",
   "language": "python",
   "name": "python3"
  },
  "language_info": {
   "codemirror_mode": {
    "name": "ipython",
    "version": 3
   },
   "file_extension": ".py",
   "mimetype": "text/x-python",
   "name": "python",
   "nbconvert_exporter": "python",
   "pygments_lexer": "ipython3",
   "version": "3.8.2"
  },
  "orig_nbformat": 4
 },
 "nbformat": 4,
 "nbformat_minor": 2
}

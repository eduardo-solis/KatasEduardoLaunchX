{
 "cells": [
  {
   "cell_type": "markdown",
   "metadata": {},
   "source": [
    "## Ejercicio 1\n",
    "Uso de funciones en Python"
   ]
  },
  {
   "cell_type": "code",
   "execution_count": 4,
   "metadata": {},
   "outputs": [
    {
     "name": "stdout",
     "output_type": "stream",
     "text": [
      "El cohete tiene un promedio de 48 en los tanque\n",
      "1er Tanque 50\n",
      "2do Tanque 25\n",
      "3er Tanque 70\n"
     ]
    }
   ],
   "source": [
    "def reporte (tanque1, tanque2, tanque3):\n",
    "    return '''El cohete tiene un promedio de {} en los tanques\n",
    "1er Tanque {}\n",
    "2do Tanque {}\n",
    "3er Tanque {}'''.format(promedio([tanque1,tanque2,tanque3]),tanque1,tanque2,tanque3)\n",
    "\n",
    "def promedio(valores):\n",
    "    total = sum(valores)\n",
    "    cantidad = len(valores)\n",
    "    promedio = round(total/cantidad)\n",
    "    return promedio\n",
    "    \n",
    "print(reporte(50,25,70))\n"
   ]
  },
  {
   "cell_type": "markdown",
   "metadata": {},
   "source": [
    "## Ejercicio 2\n",
    "Trabajando con argumentos de palabra clave"
   ]
  },
  {
   "cell_type": "code",
   "execution_count": 12,
   "metadata": {},
   "outputs": [
    {
     "name": "stdout",
     "output_type": "stream",
     "text": [
      "Reporte de mision:\n",
      "Destino: Marte\n",
      "Tiempo de vuelo : 73 minutos\n",
      "Combustible del tanque izquierdo : 500000 galones\n",
      "externo tanque tiene 300000 galones\n",
      "interno tanque tiene 200000 galones\n",
      "\n"
     ]
    }
   ],
   "source": [
    "def reporte(destino, *minutos, **combustible):\n",
    "    \n",
    "    duracion = sum(minutos)\n",
    "    carga = sum(combustible.values())\n",
    "    \n",
    "    reportaje =  '''Reporte de mision:\n",
    "Destino: {}\n",
    "Tiempo de vuelo : {} minutos\n",
    "Combustible del tanque izquierdo : {} galones\n",
    "'''.format(destino, duracion, carga)\n",
    "\n",
    "    for nombre, galones in combustible.items():\n",
    "        reportaje += '{} tanque tiene {} galones\\n'.format(nombre, galones)\n",
    "    \n",
    "    return reportaje\n",
    "\n",
    "print(reporte(\"Marte\", 15, 43, 15, externo=300000, interno=200000))\n",
    "\n"
   ]
  }
 ],
 "metadata": {
  "interpreter": {
   "hash": "b57cf49ba40cffb9f573ffff2e7abee1c00c6dadfcb1e268543de4b96bfe2901"
  },
  "kernelspec": {
   "display_name": "Python 3.8.2 64-bit",
   "language": "python",
   "name": "python3"
  },
  "language_info": {
   "codemirror_mode": {
    "name": "ipython",
    "version": 3
   },
   "file_extension": ".py",
   "mimetype": "text/x-python",
   "name": "python",
   "nbconvert_exporter": "python",
   "pygments_lexer": "ipython3",
   "version": "3.8.2"
  },
  "orig_nbformat": 4
 },
 "nbformat": 4,
 "nbformat_minor": 2
}
